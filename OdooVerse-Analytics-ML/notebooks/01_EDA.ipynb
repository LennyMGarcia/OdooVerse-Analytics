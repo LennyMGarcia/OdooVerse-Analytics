{
 "cells": [
  {
   "cell_type": "code",
   "execution_count": 41,
   "id": "033a7c7c-6e15-456f-891c-ce01de3dee7e",
   "metadata": {},
   "outputs": [],
   "source": [
    "import sys\n",
    "import os\n",
    "\n",
    "module_path = os.path.abspath(os.path.join('..'))\n",
    "if module_path not in sys.path:\n",
    "    sys.path.append(module_path)\n",
    "\n",
    "from src.utils import load_data\n",
    "import pandas as pd\n",
    "import matplotlib.pyplot as plt\n",
    "import seaborn as sns\n",
    "import yaml\n",
    "\n",
    "\n",
    "with open(\"../config.yml\", \"r\") as file:\n",
    "    config = yaml.safe_load(file)\n",
    "\n",
    "urls = [\n",
    "    config[\"api\"][\"products\"],\n",
    "    config[\"api\"][\"crm\"],\n",
    "    config[\"api\"][\"sales\"],\n",
    "    config[\"api\"][\"country\"]\n",
    "]\n",
    "\n",
    "\n",
    "data = load_data(urls)\n",
    "products = pd.DataFrame(data.get(\"http://localhost:8069/api/products\", {}).get(\"Products\", []))\n",
    "countries = pd.DataFrame(data.get(config[\"api\"][\"country\"], {}).get(\"Countries\", []))\n",
    "sales_orders = pd.DataFrame(data.get(config[\"api\"][\"sales\"], {}).get(\"sales_orders\", []))\n",
    "order_lines = pd.DataFrame(data.get(config[\"api\"][\"sales\"], {}).get(\"order_lines\", []))\n",
    "CRM = pd.DataFrame(data.get(config[\"api\"][\"crm\"], {}).get(\"CRM\", []))\n"
   ]
  },
  {
   "cell_type": "code",
   "execution_count": 42,
   "id": "276fb003-48b9-485b-b5a8-92dbcdc23fbe",
   "metadata": {},
   "outputs": [
    {
     "name": "stdout",
     "output_type": "stream",
     "text": [
      "\n",
      "📌 DataFrames dimensions\n",
      "Products:  (18, 4)\n",
      "Countries: (250, 3)\n",
      "Sales Orders: (51, 9)\n",
      "Order Lines: (68, 6)\n",
      "CRM: (10, 7)\n"
     ]
    }
   ],
   "source": [
    "print(\"\\n📌 DataFrames dimensions\")\n",
    "print(\"Products: \", products.shape)\n",
    "print(\"Countries:\", countries.shape)\n",
    "print(\"Sales Orders:\", sales_orders.shape)\n",
    "print(\"Order Lines:\", order_lines.shape)\n",
    "print(\"CRM:\", CRM.shape)\n",
    "\n"
   ]
  },
  {
   "cell_type": "code",
   "execution_count": 43,
   "id": "90a4f362",
   "metadata": {},
   "outputs": [
    {
     "name": "stdout",
     "output_type": "stream",
     "text": [
      "\n",
      "📌 Primeros registros de cada dataset:\n",
      "\n",
      " Products\n",
      "   id                                    name     category  \\\n",
      "0   5                           Communication          All   \n",
      "1   7                       Standard delivery   Deliveries   \n",
      "2   6                                Expenses     Expenses   \n",
      "3  12  AUDIFONOS ARGOM BLUETOOTH ARG-HS-2552B  Electronics   \n",
      "4   1                                   Meals          All   \n",
      "\n",
      "                                         image_route  \n",
      "0     C:/Users/User/Downloads/imgs/Communication.jpg  \n",
      "1  C:/Users/User/Downloads/imgs/Standard_delivery...  \n",
      "2          C:/Users/User/Downloads/imgs/Expenses.jpg  \n",
      "3  C:/Users/User/Downloads/imgs/AUDIFONOS_ARGOM_B...  \n",
      "4             C:/Users/User/Downloads/imgs/Meals.jpg  \n",
      "\n",
      " Countries\n",
      "   id code            name\n",
      "0   3   AF     Afghanistan\n",
      "1   6   AL         Albania\n",
      "2  62   DZ         Algeria\n",
      "3  11   AS  American Samoa\n",
      "4   1   AD         Andorra\n",
      "\n",
      " Sales orders\n",
      "  order_id   partner_invoice    partner_shipping           date_order state  \\\n",
      "0   S00051    Lilianna Perez  Harvard University  2025-01-29 00:23:15  sale   \n",
      "1   S00050     Milena Garcia           Microsoft  2025-01-28 21:39:34  sale   \n",
      "2   S00049     Jordana Alphy  Harvard University  2025-01-28 21:39:00  sale   \n",
      "3   S00048  Humberto Marcebo           Microsoft  2025-01-28 21:38:35  sale   \n",
      "4   S00047  Humberto Marcebo           Microsoft  2025-01-28 21:38:08  sale   \n",
      "\n",
      "   amount_untaxed  amount_tax  amount_total country_code  \n",
      "0         26995.0      4859.1       31854.1           CR  \n",
      "1          1235.0       179.1        1414.1           FR  \n",
      "2         27193.0      4859.1       32052.1           AL  \n",
      "3         54990.0      9898.2       64888.2           PE  \n",
      "4         26995.0      4859.1       31854.1           PE  \n",
      "\n",
      " Order lines\n",
      "                                     id order_id  \\\n",
      "0  e22699ed-f317-4cc5-bef1-29f8b2ee909f   S00051   \n",
      "1  2731e6de-aeac-4130-a986-88ddf334b716   S00050   \n",
      "2  52afc972-aa5b-4732-ad35-1bab652e998a   S00050   \n",
      "3  795456de-da3c-477d-b92d-bbc18f207c9d   S00049   \n",
      "4  3eec9e4a-4f0d-41c2-ae83-54b045ce983a   S00049   \n",
      "\n",
      "                                 product_name  quantity  unit_price  subtotal  \n",
      "0  CELULAR SAMSUNG A35 256GB NEGRO 356EZKGGTO       1.0     26995.0   26995.0  \n",
      "1                   Sandwichera Nikkei 264124       1.0       995.0     995.0  \n",
      "2                    pan sobao Buenhorno 10/1       4.0        60.0     240.0  \n",
      "3  CELULAR SAMSUNG A35 256GB NEGRO 356EZKGGTO       1.0     26995.0   26995.0  \n",
      "4         GALLETAS DULCES OREO REGULAR 12 UND       1.0       198.0     198.0  \n",
      "\n",
      " CRM\n",
      "   lead_id                          name            email_from       phone  \\\n",
      "0       11  Lilianna Perez's opportunity    lilperez@gmail.com  8296452222   \n",
      "1        9           Lenny Manuel Garcia  Lennymgr27@gmail.com  8296579686   \n",
      "2        3  Lunch Supplier's opportunity     luncher@gmail.com  8298599543   \n",
      "3        8     Mylan Ramos's opportunity      mylanr@gmail.com  8296572014   \n",
      "4        6   Jordana Alphy's opportunity    jordanlp@gmail.com  8295473692   \n",
      "\n",
      "       stage    contact_name                                       image_html  \n",
      "0  Qualified  Lilianna Perez  C:/Users/User/Downloads/imgs/Lilianna Perez.jpg  \n",
      "1        New   Administrator   C:/Users/User/Downloads/imgs/Administrator.jpg  \n",
      "2        Won  Lunch Supplier  C:/Users/User/Downloads/imgs/Lunch Supplier.jpg  \n",
      "3  Qualified     Mylan Ramos     C:/Users/User/Downloads/imgs/Mylan Ramos.jpg  \n",
      "4  Qualified   Jordana Alphy   C:/Users/User/Downloads/imgs/Jordana Alphy.jpg  \n"
     ]
    }
   ],
   "source": [
    "print(\"\\n📌 Primeros registros de cada dataset:\")\n",
    "print(\"\\n Products\")\n",
    "print(products.head())\n",
    "print(\"\\n Countries\")\n",
    "print(countries.head())\n",
    "print(\"\\n Sales orders\")\n",
    "print(sales_orders.head())\n",
    "print(\"\\n Order lines\")\n",
    "print(order_lines.head())\n",
    "print(\"\\n CRM\")\n",
    "print(CRM.head())"
   ]
  },
  {
   "cell_type": "code",
   "execution_count": 44,
   "id": "1fa1a581",
   "metadata": {},
   "outputs": [
    {
     "name": "stdout",
     "output_type": "stream",
     "text": [
      "\n",
      "📌 Estadísticas descriptivas de los datos numéricos:\n",
      "\n",
      " Products\n",
      "              id\n",
      "count  18.000000\n",
      "mean   10.555556\n",
      "std     6.242381\n",
      "min     1.000000\n",
      "25%     5.250000\n",
      "50%    11.000000\n",
      "75%    15.750000\n",
      "max    20.000000\n",
      "\n",
      " Sales orders\n",
      "       amount_untaxed     amount_tax  amount_total\n",
      "count    5.100000e+01      51.000000  5.100000e+01\n",
      "mean     8.110910e+04   14546.576471  9.565567e+04\n",
      "std      2.099773e+05   37793.903376  2.477711e+05\n",
      "min      6.000000e+01       0.000000  6.000000e+01\n",
      "25%      1.405500e+03       0.000000  1.419550e+03\n",
      "50%      2.499500e+04    4499.100000  2.949410e+04\n",
      "75%      5.782000e+04   10407.600000  6.822760e+04\n",
      "max      1.290775e+06  232161.300000  1.522936e+06\n",
      "\n",
      " Order lines\n",
      "        quantity    unit_price      subtotal\n",
      "count  68.000000     68.000000  6.800000e+01\n",
      "mean    5.588235  11041.000000  6.083182e+04\n",
      "std     7.800182  12607.382809  1.792642e+05\n",
      "min     1.000000      0.000000  0.000000e+00\n",
      "25%     1.000000    198.000000  9.937500e+02\n",
      "50%     3.000000   1995.000000  1.097250e+04\n",
      "75%     5.000000  26995.000000  3.036500e+04\n",
      "max    43.000000  29995.000000  1.289785e+06\n",
      "\n",
      " CRM\n",
      "         lead_id\n",
      "count  10.000000\n",
      "mean    7.200000\n",
      "std     3.425395\n",
      "min     2.000000\n",
      "25%     4.500000\n",
      "50%     7.500000\n",
      "75%     9.750000\n",
      "max    12.000000\n"
     ]
    }
   ],
   "source": [
    "print(\"\\n📌 Estadísticas descriptivas de los datos numéricos:\")\n",
    "print(\"\\n Products\")\n",
    "print(products.describe())\n",
    "print(\"\\n Sales orders\")\n",
    "print(sales_orders.describe())\n",
    "print(\"\\n Order lines\")\n",
    "print(order_lines.describe())\n",
    "print(\"\\n CRM\")\n",
    "print(CRM.describe())"
   ]
  },
  {
   "cell_type": "code",
   "execution_count": 45,
   "id": "b009632c",
   "metadata": {},
   "outputs": [
    {
     "name": "stdout",
     "output_type": "stream",
     "text": [
      "\n",
      "📌 Valores faltantes en cada dataset:\n",
      "Empty DataFrame\n",
      "Columns: [missing_values, Percentage]\n",
      "Index: []\n",
      "Empty DataFrame\n",
      "Columns: [missing_values, Percentage]\n",
      "Index: []\n",
      "Empty DataFrame\n",
      "Columns: [missing_values, Percentage]\n",
      "Index: []\n"
     ]
    }
   ],
   "source": [
    "def count_missing_values(df):\n",
    "    missing_values = df.isnull().sum()\n",
    "    missing_values = missing_values[missing_values > 0]\n",
    "    missing_values_percent = (missing_values / df.shape[0]) * 100\n",
    "    return pd.DataFrame({\"missing_values\": missing_values, \"Percentage\": missing_values_percent})\n",
    "\n",
    "print(\"\\n📌 Valores faltantes en cada dataset:\")\n",
    "print(count_missing_values(products))\n",
    "print(count_missing_values(sales_orders))\n",
    "print(count_missing_values(order_lines))"
   ]
  },
  {
   "cell_type": "code",
   "execution_count": 46,
   "id": "7947a953",
   "metadata": {},
   "outputs": [
    {
     "name": "stdout",
     "output_type": "stream",
     "text": [
      "\n",
      "📌 Datasets Dtypes:\n",
      "\n",
      " Products:\n",
      "id              int64\n",
      "name           object\n",
      "category       object\n",
      "image_route    object\n",
      "dtype: object\n",
      "\n",
      " Countries:\n",
      "id       int64\n",
      "code    object\n",
      "name    object\n",
      "dtype: object\n",
      "\n",
      " Sales orders:\n",
      "order_id             object\n",
      "partner_invoice      object\n",
      "partner_shipping     object\n",
      "date_order           object\n",
      "state                object\n",
      "amount_untaxed      float64\n",
      "amount_tax          float64\n",
      "amount_total        float64\n",
      "country_code         object\n",
      "dtype: object\n",
      "\n",
      " Order lines:\n",
      "id               object\n",
      "order_id         object\n",
      "product_name     object\n",
      "quantity        float64\n",
      "unit_price      float64\n",
      "subtotal        float64\n",
      "dtype: object\n",
      "\n",
      " CRM:\n",
      "lead_id          int64\n",
      "name            object\n",
      "email_from      object\n",
      "phone           object\n",
      "stage           object\n",
      "contact_name    object\n",
      "image_html      object\n",
      "dtype: object\n"
     ]
    }
   ],
   "source": [
    "\n",
    "print(\"\\n📌 Datasets Dtypes:\")\n",
    "print(\"\\n Products:\")\n",
    "print(products.dtypes)\n",
    "print(\"\\n Countries:\")\n",
    "print(countries.dtypes)\n",
    "print(\"\\n Sales orders:\")\n",
    "print(sales_orders.dtypes)\n",
    "print(\"\\n Order lines:\")\n",
    "print(order_lines.dtypes)\n",
    "print(\"\\n CRM:\")\n",
    "print(CRM.dtypes)"
   ]
  },
  {
   "cell_type": "code",
   "execution_count": 47,
   "id": "fa0a3bd3",
   "metadata": {},
   "outputs": [
    {
     "name": "stdout",
     "output_type": "stream",
     "text": [
      "\n",
      "📌 Histplot :\n"
     ]
    },
    {
     "data": {
      "image/png": "[encoded data removed]",
      "text/plain": [
       "<Figure size 1000x600 with 1 Axes>"
      ]
     },
     "metadata": {},
     "output_type": "display_data"
    }
   ],
   "source": [
    "print(\"\\n📌 Histplot :\")\n",
    "plt.figure(figsize=(10, 6))\n",
    "sns.histplot(sales_orders[\"amount_total\"], bins=15, kde=True)\n",
    "plt.show()"
   ]
  },
  {
   "cell_type": "code",
   "execution_count": 48,
   "id": "be0c55f8",
   "metadata": {},
   "outputs": [
    {
     "name": "stdout",
     "output_type": "stream",
     "text": [
      "\n",
      "📌 Boxplot:\n"
     ]
    },
    {
     "data": {
      "image/png": "[encoded data removed]",
      "text/plain": [
       "<Figure size 1000x600 with 1 Axes>"
      ]
     },
     "metadata": {},
     "output_type": "display_data"
    }
   ],
   "source": [
    "print(\"\\n📌 Boxplot:\")\n",
    "plt.figure(figsize=(10, 6))\n",
    "sns.boxplot(x=sales_orders[\"amount_total\"])\n",
    "plt.title(\"Boxplot de Montos de Venta\")\n",
    "plt.show()"
   ]
  },
  {
   "cell_type": "code",
   "execution_count": 49,
   "id": "1044db9a",
   "metadata": {},
   "outputs": [],
   "source": [
    "products.to_parquet(\"../data/raw/products.parquet\")\n",
    "countries.to_parquet(\"../data/raw/countries.parquet\")\n",
    "sales_orders.to_parquet(\"../data/raw/sales_orders.parquet\")\n",
    "order_lines.to_parquet(\"../data/raw/order_lines.parquet\")\n",
    "CRM.to_parquet(\"../data/raw/CRM.parquet\")"
   ]
  }
 ],
 "metadata": {
  "kernelspec": {
   "display_name": ".venv",
   "language": "python",
   "name": "python3"
  },
  "language_info": {
   "codemirror_mode": {
    "name": "ipython",
    "version": 3
   },
   "file_extension": ".py",
   "mimetype": "text/x-python",
   "name": "python",
   "nbconvert_exporter": "python",
   "pygments_lexer": "ipython3",
   "version": "3.12.6"
  }
 },
 "nbformat": 4,
 "nbformat_minor": 5
}
