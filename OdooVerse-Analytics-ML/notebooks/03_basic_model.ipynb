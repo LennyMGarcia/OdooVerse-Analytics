{
 "cells": [
  {
   "cell_type": "markdown",
   "metadata": {},
   "source": [
    "# Creation of the models\n",
    "In this phase, we build models based on the preprocessed data, creating collaborative filtering systems using KNN and SVD to determine which model performs better. The focus will be on developing the models and previewing their functionality."
   ]
  },
  {
   "cell_type": "code",
   "execution_count": 11,
   "metadata": {},
   "outputs": [
    {
     "name": "stdout",
     "output_type": "stream",
     "text": [
      "\n",
      "📌 First records of each dataset:\n",
      "\n",
      " Products\n",
      "   id                                    name     category\n",
      "0   5                           communication          all\n",
      "1   7                       standard delivery   deliveries\n",
      "2   6                                expenses     expenses\n",
      "3  12  audifonos argom bluetooth arg-hs-2552b  electronics\n",
      "4   1                                   meals          all\n",
      "\n",
      " Countries\n",
      "   id code            name\n",
      "0   3   af     afghanistan\n",
      "1   6   al         albania\n",
      "2  62   dz         algeria\n",
      "3  11   as  american samoa\n",
      "4   1   ad         andorra\n",
      "\n",
      " Sales orders\n",
      "  order_id   partner_invoice    partner_shipping          date_order state  \\\n",
      "0   s00051    lilianna perez  harvard university 2025-01-29 00:23:15  sale   \n",
      "1   s00050     milena garcia           microsoft 2025-01-28 21:39:34  sale   \n",
      "2   s00049     jordana alphy  harvard university 2025-01-28 21:39:00  sale   \n",
      "3   s00048  humberto marcebo           microsoft 2025-01-28 21:38:35  sale   \n",
      "4   s00047  humberto marcebo           microsoft 2025-01-28 21:38:08  sale   \n",
      "\n",
      "   amount_untaxed  amount_tax  amount_total country_code  \n",
      "0         26995.0      4859.1       31854.1           cr  \n",
      "1          1235.0       179.1        1414.1           fr  \n",
      "2         27193.0      4859.1       32052.1           al  \n",
      "3         54990.0      9898.2       64888.2           pe  \n",
      "4         26995.0      4859.1       31854.1           pe  \n",
      "\n",
      " Order lines\n",
      "                                     id order_id  \\\n",
      "0  de08e731-2794-4015-9222-100a0d5103d7   s00051   \n",
      "1  00575705-ae1d-4c0c-b770-37e86f499da1   s00050   \n",
      "2  8bb92f20-4b20-41c8-9bc3-1527e96c3886   s00050   \n",
      "3  12b1bb8a-41e3-421a-9d47-71aff7b9bbcc   s00049   \n",
      "4  46d37b4c-ab52-48c4-a360-4aecaaeaa40b   s00049   \n",
      "\n",
      "                                 product_name  quantity  unit_price  subtotal  \n",
      "0  celular samsung a35 256gb negro 356ezkggto       1.0     26995.0   26995.0  \n",
      "1                   sandwichera nikkei 264124       1.0       995.0     995.0  \n",
      "2                    pan sobao buenhorno 10/1       4.0        60.0     240.0  \n",
      "3  celular samsung a35 256gb negro 356ezkggto       1.0     26995.0   26995.0  \n",
      "4         galletas dulces oreo regular 12 und       1.0       198.0     198.0  \n",
      "\n",
      " CRM\n",
      "   lead_id                          name            email_from       phone  \\\n",
      "0       11  lilianna perez's opportunity    lilperez@gmail.com  8296452222   \n",
      "1        9           lenny manuel garcia  lennymgr27@gmail.com  8296579686   \n",
      "2        3  lunch supplier's opportunity     luncher@gmail.com  8298599543   \n",
      "3        8     mylan ramos's opportunity      mylanr@gmail.com  8296572014   \n",
      "4        6   jordana alphy's opportunity    jordanlp@gmail.com  8295473692   \n",
      "\n",
      "       stage    contact_name  \n",
      "0  qualified  lilianna perez  \n",
      "1        new   administrator  \n",
      "2        won  lunch supplier  \n",
      "3  qualified     mylan ramos  \n",
      "4  qualified   jordana alphy  \n"
     ]
    }
   ],
   "source": [
    "import pandas as pd\n",
    "\n",
    "products = pd.read_parquet(\"../data/processed/products.parquet\")\n",
    "countries = pd.read_parquet(\"../data/processed/countries.parquet\")\n",
    "sales_orders = pd.read_parquet(\"../data/processed/sales_orders.parquet\")\n",
    "order_lines = pd.read_parquet(\"../data/processed/order_lines.parquet\")\n",
    "CRM = pd.read_parquet(\"../data/processed/CRM.parquet\")\n",
    "\n",
    "print(\"\\n📌 First records of each dataset:\")\n",
    "print(\"\\n Products\")\n",
    "print(products.head())\n",
    "print(\"\\n Countries\")\n",
    "print(countries.head())\n",
    "print(\"\\n Sales orders\")\n",
    "print(sales_orders.head())\n",
    "print(\"\\n Order lines\")\n",
    "print(order_lines.head())\n",
    "print(\"\\n CRM\")\n",
    "print(CRM.head())\n"
   ]
  },
  {
   "cell_type": "markdown",
   "metadata": {},
   "source": [
    "### Data merging and system preview.\n",
    "We merge all the tables to facilitate the creation of the model."
   ]
  },
  {
   "cell_type": "code",
   "execution_count": 12,
   "metadata": {},
   "outputs": [
    {
     "name": "stdout",
     "output_type": "stream",
     "text": [
      "Empty DataFrame\n",
      "Columns: [id_x, order_id, product_name, quantity, unit_price, subtotal, partner_invoice, partner_shipping, date_order, state, amount_untaxed, amount_tax, amount_total, country_code, lead_id, name, email_from, phone, stage, id_y, category]\n",
      "Index: []\n",
      "\n",
      "[0 rows x 21 columns]\n"
     ]
    }
   ],
   "source": [
    "CRM = CRM.rename(columns={\"contact_name\":\"partner_invoice\" })\n",
    "products = products.rename(columns={\"name\":\"product_name\" })\n",
    "order_data = pd.merge(order_lines, sales_orders, on=\"order_id\", how=\"left\")\n",
    "order_data = pd.merge(order_data, CRM, on=\"partner_invoice\", how=\"left\")\n",
    "order_data = pd.merge(order_data, products, on=\"product_name\", how=\"left\")\n",
    "\n",
    "print(order_data.head(0))"
   ]
  },
  {
   "cell_type": "markdown",
   "metadata": {},
   "source": [
    "Here, we outline what we should expect, serving as a main idea of what to anticipate from collaborative filtering systems."
   ]
  },
  {
   "cell_type": "code",
   "execution_count": 13,
   "metadata": {},
   "outputs": [
    {
     "data": {
      "image/png": "[encoded data removed]",
      "text/plain": [
       "<Figure size 1000x600 with 1 Axes>"
      ]
     },
     "metadata": {},
     "output_type": "display_data"
    }
   ],
   "source": [
    "import pandas as pd\n",
    "import matplotlib.pyplot as plt\n",
    "\n",
    "product_sales = order_data.groupby(['partner_invoice', 'product_name'])['quantity'].sum().reset_index()\n",
    "\n",
    "top_products = product_sales.sort_values(by='quantity', ascending=False)\n",
    "\n",
    "n = 10  \n",
    "top_products = top_products.head(n)\n",
    "\n",
    "plt.figure(figsize=(10, 6))\n",
    "for user in top_products['partner_invoice'].unique():\n",
    "    user_data = top_products[top_products['partner_invoice'] == user]\n",
    "    plt.bar(user_data['product_name'], user_data['quantity'], label=user)\n",
    "\n",
    "plt.xlabel('Product')\n",
    "plt.ylabel('Quantity Sold')\n",
    "plt.title('Top Sold Products by User')\n",
    "plt.xticks(rotation=45, ha=\"right\")\n",
    "plt.legend(title=\"User\", loc = 'upper right')\n",
    "plt.tight_layout()\n",
    "plt.show()\n",
    "\n"
   ]
  },
  {
   "cell_type": "markdown",
   "metadata": {},
   "source": [
    "### k-Nearest Neighbors (KNN)\n",
    "We scale and encode the data required for the KNN to function properly."
   ]
  },
  {
   "cell_type": "code",
   "execution_count": 14,
   "metadata": {},
   "outputs": [],
   "source": [
    "from sklearn.preprocessing import OneHotEncoder\n",
    "from sklearn.compose import ColumnTransformer\n",
    "from sklearn.pipeline import Pipeline\n",
    "from sklearn.preprocessing import StandardScaler\n",
    "\n",
    "knn_features = order_data[[\"partner_invoice\", \"product_name\", \"category\", \"quantity\", \"unit_price\"]]\n",
    "\n",
    "knn_preprocessor = ColumnTransformer(\n",
    "    transformers=[\n",
    "        ('cat', OneHotEncoder(), [\"partner_invoice\", \"product_name\", \"category\"]),\n",
    "        ('num', StandardScaler(), ['quantity', \"unit_price\"])\n",
    "    ]\n",
    ")\n",
    "\n",
    "knn_processed_features = knn_preprocessor.fit_transform(knn_features)"
   ]
  },
  {
   "cell_type": "markdown",
   "metadata": {},
   "source": [
    "We fit the model and check if it functions correctly. The focus here is to have it recommend products based on the individual. We use the cosine similarity metric to assess data similarities."
   ]
  },
  {
   "cell_type": "code",
   "execution_count": 15,
   "metadata": {},
   "outputs": [
    {
     "name": "stdout",
     "output_type": "stream",
     "text": [
      "📌 recommended product is: \n",
      "0     celular samsung a35 256gb negro 356ezkggto\n",
      "46    celular samsung a35 256gb negro 356ezkggto\n",
      "Name: product_name, dtype: object\n",
      "\n",
      " 📌 recommended not purchase product is: \n",
      "Series([], Name: product_name, dtype: object)\n"
     ]
    }
   ],
   "source": [
    "from sklearn.neighbors import NearestNeighbors\n",
    "\n",
    "knn_model = NearestNeighbors(n_neighbors=2, metric=\"cosine\")\n",
    "\n",
    "knn_model.fit(knn_processed_features)\n",
    "\n",
    "knn_user_index = order_data[order_data[\"partner_invoice\"] == 'lilianna perez'].index[0]\n",
    "\n",
    "distances, indices = knn_model.kneighbors(knn_processed_features[knn_user_index].reshape(1, -1))\n",
    "\n",
    "knn_fav_products = order_data.iloc[indices[0]]['product_name']\n",
    "print(\"📌 recommended product is: \")\n",
    "print(knn_fav_products)\n",
    "purchased_products = order_data[order_data['partner_invoice'] == 'lilianna perez']['product_name']\n",
    "knn_recommended_not_purchase_products = knn_fav_products[~knn_fav_products.isin(purchased_products)]\n",
    "\n",
    "print(\"\\n 📌 recommended not purchase product is: \")\n",
    "print(knn_recommended_not_purchase_products)\n",
    "\n",
    "\n"
   ]
  },
  {
   "cell_type": "markdown",
   "metadata": {},
   "source": [
    "### Singular value decomposition\n",
    "We decompose the interaction matrix into smaller matrices that represent the underlying latent factors explaining user preferences and product features. This decomposition allows us to recommend products that a user has not yet purchased, based on the behavioral patterns of similar users."
   ]
  },
  {
   "cell_type": "code",
   "execution_count": 16,
   "metadata": {},
   "outputs": [
    {
     "name": "stdout",
     "output_type": "stream",
     "text": [
      "[[-0.60436722 -0.75592895 -0.43285265 -0.68980898 -0.54160256  2.61819142\n",
      "  -0.56478717 -0.1910184  -0.48078191 -0.35355339]\n",
      " [-0.60436722 -0.75592895 -0.88235348 -0.68980898 -0.17232809 -0.6406213\n",
      "  -0.56478717 -0.62080978 -0.48078191  2.82842712]\n",
      " [ 2.65921578  2.0788046  -0.13318543 -0.68980898 -0.39389277 -0.51528235\n",
      "  -0.46511885  2.60262564 -0.48078191 -0.35355339]\n",
      " [-0.36262033 -0.18898224 -0.58268626  2.28499225 -0.54160256  0.48742925\n",
      "   2.72426753  0.45366869 -0.48078191 -0.35355339]\n",
      " [ 0.48349378  1.51185789 -0.73251987 -0.43113061 -0.54160256 -0.6406213\n",
      "   0.23255942  0.23877299  0.19531765 -0.35355339]\n",
      " [ 0.         -0.75592895  2.56381956  1.1209396   2.63415791 -0.01392655\n",
      "  -0.56478717 -0.62080978 -0.21034208 -0.35355339]\n",
      " [-0.48349378 -0.18898224  0.01664818 -0.68980898  0.64007575 -0.6406213\n",
      "  -0.06644555 -0.62080978  2.76449596 -0.35355339]\n",
      " [-0.60436722 -0.18898224 -0.43285265  0.34490449 -0.54160256 -0.6406213\n",
      "  -0.16611387 -0.62080978 -0.345562   -0.35355339]\n",
      " [-0.48349378 -0.75592895  0.61598262 -0.5604698  -0.54160256 -0.01392655\n",
      "  -0.56478717 -0.62080978 -0.48078191 -0.35355339]]\n"
     ]
    }
   ],
   "source": [
    "\n",
    "user_product_matrix = order_data.pivot_table(index='partner_invoice', columns='product_name', values='quantity', aggfunc='sum', fill_value=0)\n",
    "scaler = StandardScaler()\n",
    "user_product_matrix_scaled = scaler.fit_transform(user_product_matrix)\n",
    "print(user_product_matrix_scaled)"
   ]
  },
  {
   "cell_type": "markdown",
   "metadata": {},
   "source": [
    "We reduce the dimensionality and retain the 5 most important components, then perform the transformation with the scaled data to prevent the dimensionality reduction from being influenced by high values. We apply a clip as a regularizer to avoid overfitting the data. The rows of Vt represent product latent features, while U represents the partners."
   ]
  },
  {
   "cell_type": "code",
   "execution_count": 17,
   "metadata": {},
   "outputs": [
    {
     "name": "stdout",
     "output_type": "stream",
     "text": [
      "\n",
      "📌 Latent Users (U):\n",
      "[[-0.76431586 -1.29418311 -0.11804568 -2.06784778 -1.5880001 ]\n",
      " [-0.84583514 -1.5785164  -2.04018053  0.13041331  1.96372146]\n",
      " [ 4.15045725  1.26647243 -0.26086549 -0.71242064  0.30487115]\n",
      " [ 0.08634475 -1.44186725  3.35052281  0.77135199  0.41441555]\n",
      " [ 1.680054   -0.15141826 -0.25453287  0.76397404 -0.28212737]\n",
      " [-2.21997804  3.04726036  0.87735339 -0.69536646  0.8295633 ]\n",
      " [-0.86656055  0.89708766 -1.08008145  2.12964626 -1.44499865]\n",
      " [-0.37488037 -0.6148897   0.03422428  0.3572644   0.09064219]\n",
      " [-0.84528604 -0.12994573 -0.50839445 -0.67701512 -0.28808753]]\n",
      "\n",
      "📌 Singular Values (Sigma):\n",
      "[2.64055967 2.64055967 2.64055967 2.64055967 2.64055967]\n",
      "\n",
      "📌 Latent Products (Vt):\n",
      "[[ 4.96421362e-01  5.34974839e-01 -2.44568401e-01 -1.37166080e-01\n",
      "  -2.78714045e-01 -1.36038072e-01  5.22028505e-02  5.23020427e-01\n",
      "  -8.34488799e-02 -9.65008805e-02]\n",
      " [ 3.02556574e-01  1.41042255e-01  5.85524424e-01  2.92157568e-02\n",
      "   5.63328797e-01 -2.10098636e-01 -2.47029328e-01  1.00596429e-01\n",
      "   1.93369422e-01 -2.73602917e-01]\n",
      " [ 1.12598777e-03 -5.68936445e-04  1.14125365e-01  6.46301575e-01\n",
      "   4.04959360e-02  2.02661074e-01  5.79011568e-01  1.40411943e-01\n",
      "  -1.93747711e-01 -3.66126436e-01]\n",
      " [-1.33989389e-01  1.34690551e-01 -2.11773660e-01  1.30800857e-01\n",
      "   2.16819849e-02 -5.88562141e-01  3.69375969e-01 -1.46725683e-01\n",
      "   6.29144306e-01  3.58226004e-02]\n",
      " [ 1.12633830e-01 -3.21672987e-02  7.98112957e-02  2.83481249e-01\n",
      "   1.76978094e-01 -4.51525078e-01  5.05234777e-02  5.24516755e-02\n",
      "  -4.84227446e-01  6.51591331e-01]]\n"
     ]
    }
   ],
   "source": [
    "from sklearn.decomposition import TruncatedSVD\n",
    "import numpy as np\n",
    "\n",
    "svd = TruncatedSVD(n_components=5)\n",
    "svd_user_product_matrix = svd.fit_transform(user_product_matrix_scaled)\n",
    "\n",
    "max_value = np.max(svd.singular_values_)\n",
    "svd.singular_values_ = np.clip(svd.singular_values_, a_min=0, a_max=max_value * 0.5)  \n",
    "\n",
    "U = svd_user_product_matrix\n",
    "Sigma = svd.singular_values_\n",
    "Vt = svd.components_\n",
    "\n",
    "print(\"\\n📌 Latent Users (U):\")\n",
    "print(U)\n",
    "print(\"\\n📌 Singular Values (Sigma):\")\n",
    "print(Sigma)\n",
    "print(\"\\n📌 Latent Products (Vt):\")\n",
    "print(Vt)"
   ]
  },
  {
   "cell_type": "markdown",
   "metadata": {},
   "source": [
    "Matrix multiplication is a prediction because, by performing this operation, we are reconstructing an approximate version of the original matrix, the user-product interaction matrix. The key difference is that, through SVD decomposition, we can estimate interactions that have not been directly observed."
   ]
  },
  {
   "cell_type": "code",
   "execution_count": 18,
   "metadata": {},
   "outputs": [
    {
     "name": "stdout",
     "output_type": "stream",
     "text": [
      "product_name        audifonos argom bluetooth arg-hs-2552b  \\\n",
      "partner_invoice                                              \n",
      "brandon freeman                                  -1.776865   \n",
      "harvard university                               -1.838017   \n",
      "humberto marcebo                                  6.794311   \n",
      "jordana alphy                                    -1.178445   \n",
      "joshua barom                                      1.726329   \n",
      "kendry murkan                                     0.019859   \n",
      "lilianna perez                                   -1.605675   \n",
      "milena garcia                                    -1.081994   \n",
      "mylan ramos                                      -1.059503   \n",
      "\n",
      "product_name        batidora cuisinart pedestal sm-50bc  \\\n",
      "partner_invoice                                           \n",
      "brandon freeman                               -2.162077   \n",
      "harvard university                            -1.900093   \n",
      "humberto marcebo                               6.055864   \n",
      "jordana alphy                                 -0.180918   \n",
      "joshua barom                                   2.612967   \n",
      "kendry murkan                                 -2.320215   \n",
      "lilianna perez                                -0.008242   \n",
      "milena garcia                                 -0.639258   \n",
      "mylan ramos                                   -1.458027   \n",
      "\n",
      "product_name        celular samsung a35 256gb negro 356ezkggto  \\\n",
      "partner_invoice                                                  \n",
      "brandon freeman                                      -0.721256   \n",
      "harvard university                                   -2.168223   \n",
      "humberto marcebo                                     -0.338223   \n",
      "jordana alphy                                        -1.619358   \n",
      "joshua barom                                         -1.882461   \n",
      "kendry murkan                                         6.973134   \n",
      "lilianna perez                                        0.125704   \n",
      "milena garcia                                        -0.878958   \n",
      "mylan ramos                                           0.509640   \n",
      "\n",
      "product_name        galletas dulces oreo regular 12 und  \\\n",
      "partner_invoice                                           \n",
      "brandon freeman                               -1.927371   \n",
      "harvard university                            -1.782201   \n",
      "humberto marcebo                              -1.868615   \n",
      "jordana alphy                                  6.152113   \n",
      "joshua barom                                  -1.001893   \n",
      "kendry murkan                                  2.917237   \n",
      "lilianna perez                                -1.806293   \n",
      "milena garcia                                  0.337995   \n",
      "mylan ramos                                   -1.020971   \n",
      "\n",
      "product_name        laptop lenovo 14p 8gb 256gb 82yt00q3us  \\\n",
      "partner_invoice                                              \n",
      "brandon freeman                                  -2.235714   \n",
      "harvard university                               -1.018552   \n",
      "humberto marcebo                                 -1.096903   \n",
      "jordana alphy                                    -1.612224   \n",
      "joshua barom                                     -1.577012   \n",
      "kendry murkan                                     6.608305   \n",
      "lilianna perez                                    1.303330   \n",
      "milena garcia                                    -0.572280   \n",
      "mylan ramos                                       0.201049   \n",
      "\n",
      "product_name        licuadora oster cromada 3v blst4655  \\\n",
      "partner_invoice                                           \n",
      "brandon freeman                                6.036419   \n",
      "harvard university                            -2.456199   \n",
      "humberto marcebo                              -1.589418   \n",
      "jordana alphy                                  0.869011   \n",
      "joshua barom                                  -1.506653   \n",
      "kendry murkan                                 -0.331973   \n",
      "lilianna perez                                -2.351308   \n",
      "milena garcia                                 -0.169202   \n",
      "mylan ramos                                    1.499323   \n",
      "\n",
      "product_name        pan sobao buenhorno 10/1  \\\n",
      "partner_invoice                                \n",
      "brandon freeman                    -1.670399   \n",
      "harvard university                 -1.817016   \n",
      "humberto marcebo                   -1.307030   \n",
      "jordana alphy                       6.882722   \n",
      "joshua barom                        0.648708   \n",
      "kendry murkan                      -1.519889   \n",
      "lilianna perez                     -0.471577   \n",
      "milena garcia                       0.762294   \n",
      "mylan ramos                        -1.507814   \n",
      "\n",
      "product_name        refresco coca cola clasica 2.5 lt  \\\n",
      "partner_invoice                                         \n",
      "brandon freeman                             -0.861892   \n",
      "harvard university                          -2.122435   \n",
      "humberto marcebo                             6.289996   \n",
      "jordana alphy                                0.737050   \n",
      "joshua barom                                 1.850605   \n",
      "kendry murkan                               -1.546891   \n",
      "lilianna perez                              -2.384182   \n",
      "milena garcia                               -0.794243   \n",
      "mylan ramos                                 -1.168009   \n",
      "\n",
      "product_name        sandwichera nikkei 264124  standard delivery  \n",
      "partner_invoice                                                   \n",
      "brandon freeman                     -1.836838          -1.683974  \n",
      "harvard university                  -1.870075           6.719406  \n",
      "humberto marcebo                    -1.707793          -1.263225  \n",
      "jordana alphy                       -1.717827          -1.433525  \n",
      "joshua barom                         1.312624          -0.485787  \n",
      "kendry murkan                       -0.619651          -1.122516  \n",
      "lilianna perez                       6.587164          -1.667869  \n",
      "milena garcia                        0.228754           0.696425  \n",
      "mylan ramos                         -0.376357           0.241065  \n"
     ]
    }
   ],
   "source": [
    "import numpy as np\n",
    "\n",
    "Sigma_matrix = np.diag(Sigma)\n",
    "\n",
    "predictions = np.dot(np.dot(U, Sigma_matrix), Vt)\n",
    "\n",
    "predicted_ratings_df = pd.DataFrame(predictions, columns=user_product_matrix.columns, index=user_product_matrix.index)\n",
    "print(predicted_ratings_df)\n",
    "\n",
    "\n"
   ]
  },
  {
   "cell_type": "markdown",
   "metadata": {},
   "source": [
    "Then, we make the prediction and observe the user's favorite product as well as the one recommended to her."
   ]
  },
  {
   "cell_type": "code",
   "execution_count": 19,
   "metadata": {},
   "outputs": [
    {
     "name": "stdout",
     "output_type": "stream",
     "text": [
      "📌 Top recommended products:\n",
      "product_name\n",
      "celular samsung a35 256gb negro 356ezkggto    0.125704\n",
      "Name: lilianna perez, dtype: float64\n",
      "\n",
      "📌 fav products:\n",
      "product_name\n",
      "sandwichera nikkei 264124                     6.587164\n",
      "laptop lenovo 14p 8gb 256gb 82yt00q3us        1.303330\n",
      "celular samsung a35 256gb negro 356ezkggto    0.125704\n",
      "batidora cuisinart pedestal sm-50bc          -0.008242\n",
      "pan sobao buenhorno 10/1                     -0.471577\n",
      "Name: lilianna perez, dtype: float64\n"
     ]
    }
   ],
   "source": [
    "user_name = 'lilianna perez'  \n",
    "user_index = user_product_matrix.index.get_loc(user_name)\n",
    "user_ratings = predicted_ratings_df.loc[user_name]  \n",
    "\n",
    "unrated_products = user_product_matrix.loc[user_name] == 6  \n",
    "\n",
    "svd_not_unrated_recommended_products = user_ratings[unrated_products]\n",
    "\n",
    "print(\"📌 Top recommended products:\")\n",
    "print(svd_not_unrated_recommended_products.head())\n",
    "\n",
    "svd_fav_products = user_ratings.sort_values(ascending=False)  \n",
    "\n",
    "print(\"\\n📌 fav products:\")\n",
    "print(svd_fav_products.head())\n",
    "\n"
   ]
  },
  {
   "cell_type": "markdown",
   "metadata": {},
   "source": [
    "### Export data"
   ]
  },
  {
   "cell_type": "code",
   "execution_count": 20,
   "metadata": {},
   "outputs": [],
   "source": [
    "import pickle\n",
    "\n",
    "order_data.to_parquet(\"../data/processed/order_data.parquet\")\n",
    "\n",
    "with open(\"../models/collaborative_filtering/svd_model.pkl\", \"wb\") as f:\n",
    "    pickle.dump((U, Sigma, Vt), f)\n",
    "\n",
    "with open(\"../models/collaborative_filtering/knn_model.pkl\", \"wb\") as f:\n",
    "    pickle.dump(knn_model, f)"
   ]
  }
 ],
 "metadata": {
  "kernelspec": {
   "display_name": ".venv",
   "language": "python",
   "name": "python3"
  },
  "language_info": {
   "codemirror_mode": {
    "name": "ipython",
    "version": 3
   },
   "file_extension": ".py",
   "mimetype": "text/x-python",
   "name": "python",
   "nbconvert_exporter": "python",
   "pygments_lexer": "ipython3",
   "version": "3.12.6"
  }
 },
 "nbformat": 4,
 "nbformat_minor": 2
}
